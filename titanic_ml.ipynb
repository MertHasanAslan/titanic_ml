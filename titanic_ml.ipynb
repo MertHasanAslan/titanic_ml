{
 "cells": [
  {
   "cell_type": "markdown",
   "id": "dbc08fc4",
   "metadata": {},
   "source": [
    "### Let's Start\n",
    "We will examine the notorious Titanic!\n",
    "\n",
    "<font color = \"red\">\n",
    "Content:\n",
    "\n",
    "###### load and check data\n"
   ]
  },
  {
   "cell_type": "markdown",
   "id": "d3bab6f8",
   "metadata": {},
   "source": []
  },
  {
   "cell_type": "markdown",
   "id": "4c3867d7",
   "metadata": {},
   "source": []
  }
 ],
 "metadata": {
  "language_info": {
   "name": "python"
  }
 },
 "nbformat": 4,
 "nbformat_minor": 5
}
