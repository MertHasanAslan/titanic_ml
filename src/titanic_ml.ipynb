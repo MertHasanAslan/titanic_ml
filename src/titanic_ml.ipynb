{
 "cells": [
  {
   "cell_type": "markdown",
   "id": "dbc08fc4",
   "metadata": {},
   "source": [
    "### Let's Start\n",
    "We will examine the notorious Titanic!\n",
    "\n",
    "<font color = \"red\">\n",
    "Content:\n",
    "\n",
    "###### [load and check data](#1)\n"
   ]
  },
  {
   "cell_type": "markdown",
   "id": "d3bab6f8",
   "metadata": {},
   "source": [
    "<a id = \"1\"></a><br>\n",
    "##### Load and Check data"
   ]
  },
  {
   "cell_type": "code",
   "execution_count": 2,
   "id": "ce1bf7db",
   "metadata": {},
   "outputs": [],
   "source": [
    "# importing essencial libraries\n",
    "import numpy as np\n",
    "import pandas as pd\n",
    "import matplotlib as plt\n",
    "import seaborn as sns"
   ]
  },
  {
   "cell_type": "code",
   "execution_count": null,
   "id": "09720336",
   "metadata": {},
   "outputs": [],
   "source": []
  }
 ],
 "metadata": {
  "kernelspec": {
   "display_name": "Python 3",
   "language": "python",
   "name": "python3"
  },
  "language_info": {
   "codemirror_mode": {
    "name": "ipython",
    "version": 3
   },
   "file_extension": ".py",
   "mimetype": "text/x-python",
   "name": "python",
   "nbconvert_exporter": "python",
   "pygments_lexer": "ipython3",
   "version": "3.10.0"
  }
 },
 "nbformat": 4,
 "nbformat_minor": 5
}
